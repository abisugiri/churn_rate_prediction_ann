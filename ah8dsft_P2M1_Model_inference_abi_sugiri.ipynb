{
 "cells": [
  {
   "cell_type": "markdown",
   "metadata": {},
   "source": [
    "# Perkenalan\n",
    "\n",
    "Abi Rahman Sugiri\n",
    "\n",
    "FTDS RMT 021"
   ]
  },
  {
   "cell_type": "markdown",
   "metadata": {},
   "source": [
    "# Model Inference"
   ]
  },
  {
   "cell_type": "markdown",
   "metadata": {},
   "source": [
    "## Importing Libraries "
   ]
  },
  {
   "cell_type": "code",
   "execution_count": 1,
   "metadata": {},
   "outputs": [
    {
     "name": "stderr",
     "output_type": "stream",
     "text": [
      "c:\\Users\\abisu\\miniconda3\\lib\\site-packages\\numpy\\_distributor_init.py:30: UserWarning: loaded more than 1 DLL from .libs:\n",
      "c:\\Users\\abisu\\miniconda3\\lib\\site-packages\\numpy\\.libs\\libopenblas.FB5AE2TYXYH2IJRDKGDGQ3XBKLKTF43H.gfortran-win_amd64.dll\n",
      "c:\\Users\\abisu\\miniconda3\\lib\\site-packages\\numpy\\.libs\\libopenblas64__v0.3.23-gcc_10_3_0.dll\n",
      "  warnings.warn(\"loaded more than 1 DLL from .libs:\"\n"
     ]
    }
   ],
   "source": [
    "# Import Libraries\n",
    "\n",
    "import pickle\n",
    "from tensorflow.keras.models import load_model\n",
    "import pandas as pd\n",
    "import numpy as np\n",
    "import tensorflow as tf\n",
    "\n",
    "import warnings\n",
    "warnings.filterwarnings('ignore')"
   ]
  },
  {
   "cell_type": "markdown",
   "metadata": {},
   "source": [
    "## Load Model"
   ]
  },
  {
   "cell_type": "code",
   "execution_count": 2,
   "metadata": {},
   "outputs": [],
   "source": [
    "# Load All Models\n",
    "\n",
    "with open('final_pipeline.pkl', 'rb') as file_1:\n",
    "  model_pipeline = pickle.load(file_1)\n"
   ]
  },
  {
   "cell_type": "code",
   "execution_count": 3,
   "metadata": {},
   "outputs": [],
   "source": [
    "model_ann = load_model(\"churn_model.h5\", compile=False)"
   ]
  },
  {
   "cell_type": "markdown",
   "metadata": {},
   "source": [
    "## Inferencing"
   ]
  },
  {
   "cell_type": "code",
   "execution_count": 4,
   "metadata": {},
   "outputs": [
    {
     "data": {
      "text/html": [
       "<div>\n",
       "<style scoped>\n",
       "    .dataframe tbody tr th:only-of-type {\n",
       "        vertical-align: middle;\n",
       "    }\n",
       "\n",
       "    .dataframe tbody tr th {\n",
       "        vertical-align: top;\n",
       "    }\n",
       "\n",
       "    .dataframe thead th {\n",
       "        text-align: right;\n",
       "    }\n",
       "</style>\n",
       "<table border=\"1\" class=\"dataframe\">\n",
       "  <thead>\n",
       "    <tr style=\"text-align: right;\">\n",
       "      <th></th>\n",
       "      <th>age</th>\n",
       "      <th>gender</th>\n",
       "      <th>region_category</th>\n",
       "      <th>membership_category</th>\n",
       "      <th>joined_through_referral</th>\n",
       "      <th>preferred_offer_types</th>\n",
       "      <th>medium_of_operation</th>\n",
       "      <th>internet_option</th>\n",
       "      <th>days_since_last_login</th>\n",
       "      <th>avg_time_spent</th>\n",
       "      <th>avg_transaction_value</th>\n",
       "      <th>avg_frequency_login_days</th>\n",
       "      <th>points_in_wallet</th>\n",
       "      <th>used_special_discount</th>\n",
       "      <th>offer_application_preference</th>\n",
       "      <th>past_complaint</th>\n",
       "      <th>complaint_status</th>\n",
       "      <th>feedback</th>\n",
       "    </tr>\n",
       "  </thead>\n",
       "  <tbody>\n",
       "    <tr>\n",
       "      <th>0</th>\n",
       "      <td>29</td>\n",
       "      <td>F</td>\n",
       "      <td>City</td>\n",
       "      <td>Silver Membership</td>\n",
       "      <td>No</td>\n",
       "      <td>Without Offers</td>\n",
       "      <td>Both</td>\n",
       "      <td>Wi-Fi</td>\n",
       "      <td>10</td>\n",
       "      <td>348.27</td>\n",
       "      <td>5631.69</td>\n",
       "      <td>15.0</td>\n",
       "      <td>824.59</td>\n",
       "      <td>Yes</td>\n",
       "      <td>Yes</td>\n",
       "      <td>Yes</td>\n",
       "      <td>Solved</td>\n",
       "      <td>Poor Customer Service</td>\n",
       "    </tr>\n",
       "  </tbody>\n",
       "</table>\n",
       "</div>"
      ],
      "text/plain": [
       "   age gender region_category membership_category joined_through_referral  \\\n",
       "0   29      F            City   Silver Membership                      No   \n",
       "\n",
       "  preferred_offer_types medium_of_operation internet_option  \\\n",
       "0        Without Offers                Both           Wi-Fi   \n",
       "\n",
       "   days_since_last_login  avg_time_spent  avg_transaction_value  \\\n",
       "0                     10          348.27                5631.69   \n",
       "\n",
       "   avg_frequency_login_days  points_in_wallet used_special_discount  \\\n",
       "0                      15.0            824.59                   Yes   \n",
       "\n",
       "  offer_application_preference past_complaint complaint_status  \\\n",
       "0                          Yes            Yes           Solved   \n",
       "\n",
       "                feedback  \n",
       "0  Poor Customer Service  "
      ]
     },
     "execution_count": 4,
     "metadata": {},
     "output_type": "execute_result"
    }
   ],
   "source": [
    "# Create A New Data\n",
    "\n",
    "data_inf = {\n",
    "    'age': 29,\n",
    "    'gender': 'F',\n",
    "    'region_category': 'City',\n",
    "    'membership_category': 'Silver Membership',\n",
    "    'joined_through_referral': 'No',\n",
    "    'preferred_offer_types': 'Without Offers',\n",
    "    'medium_of_operation': 'Both',\n",
    "    'internet_option': 'Wi-Fi',\n",
    "    'days_since_last_login': 10,\n",
    "    'avg_time_spent': 348.27,\n",
    "    'avg_transaction_value': 5631.69,\n",
    "    'avg_frequency_login_days': 15.0,\n",
    "    'points_in_wallet': 824.59,\n",
    "    'used_special_discount': 'Yes',\n",
    "    'offer_application_preference': 'Yes',\n",
    "    'past_complaint': 'Yes',\n",
    "    'complaint_status': 'Solved',\n",
    "    'feedback': 'Poor Customer Service'\n",
    "}\n",
    "\n",
    "data_inf = pd.DataFrame([data_inf])\n",
    "data_inf"
   ]
  },
  {
   "cell_type": "code",
   "execution_count": 5,
   "metadata": {},
   "outputs": [
    {
     "name": "stdout",
     "output_type": "stream",
     "text": [
      "1/1 [==============================] - 0s 213ms/step\n"
     ]
    },
    {
     "data": {
      "text/plain": [
       "array([[0]])"
      ]
     },
     "execution_count": 5,
     "metadata": {},
     "output_type": "execute_result"
    }
   ],
   "source": [
    "# Predict using ANN\n",
    "\n",
    "data_inf_transform = model_pipeline.transform(data_inf)\n",
    "y_pred_inf = model_ann.predict(data_inf_transform)\n",
    "y_pred_inf = np.where(y_pred_inf >= 0.5, 1, 0)\n",
    "y_pred_inf"
   ]
  }
 ],
 "metadata": {
  "kernelspec": {
   "display_name": "base",
   "language": "python",
   "name": "python3"
  },
  "language_info": {
   "codemirror_mode": {
    "name": "ipython",
    "version": 3
   },
   "file_extension": ".py",
   "mimetype": "text/x-python",
   "name": "python",
   "nbconvert_exporter": "python",
   "pygments_lexer": "ipython3",
   "version": "3.9.16"
  },
  "orig_nbformat": 4
 },
 "nbformat": 4,
 "nbformat_minor": 2
}
